{
 "cells": [
  {
   "cell_type": "markdown",
   "metadata": {},
   "source": [
    "# Introduction to Cross-Validation - Lab\n",
    "\n",
    "## Introduction\n",
    "\n",
    "In this lab, you'll be able to practice your cross-validation skills!\n",
    "\n",
    "\n",
    "## Objectives\n",
    "\n",
    "You will be able to:\n",
    "\n",
    "- Perform cross validation on a model\n",
    "- Compare and contrast model validation strategies"
   ]
  },
  {
   "cell_type": "markdown",
   "metadata": {},
   "source": [
    "## Let's Get Started\n",
    "\n",
    "We included the code to pre-process the Ames Housing dataset below. This is done for the sake of expediency, although it may result in data leakage and therefore overly optimistic model metrics."
   ]
  },
  {
   "cell_type": "code",
   "execution_count": 19,
   "metadata": {},
   "outputs": [],
   "source": [
    "import pandas as pd\n",
    "import numpy as np\n",
    "import matplotlib.pyplot as plt\n",
    "%matplotlib inline\n",
    "\n",
    "ames = pd.read_csv('ames.csv')\n",
    "\n",
    "continuous = ['LotArea', '1stFlrSF', 'GrLivArea', 'SalePrice']\n",
    "categoricals = ['BldgType', 'KitchenQual', 'SaleType', 'MSZoning', 'Street', 'Neighborhood']\n",
    "\n",
    "ames_cont = ames[continuous]\n",
    "\n",
    "# log features\n",
    "log_names = [f'{column}_log' for column in ames_cont.columns]\n",
    "\n",
    "ames_log = np.log(ames_cont)\n",
    "ames_log.columns = log_names\n",
    "\n",
    "# normalize (subract mean and divide by std)\n",
    "\n",
    "def normalize(feature):\n",
    "    return (feature - feature.mean()) / feature.std()\n",
    "\n",
    "ames_log_norm = ames_log.apply(normalize)\n",
    "\n",
    "# one hot encode categoricals\n",
    "ames_ohe = pd.get_dummies(ames[categoricals], prefix=categoricals, drop_first=True)\n",
    "\n",
    "preprocessed = pd.concat([ames_log_norm, ames_ohe], axis=1)\n",
    "\n",
    "X = preprocessed.drop('SalePrice_log', axis=1)\n",
    "y = preprocessed['SalePrice_log']"
   ]
  },
  {
   "cell_type": "markdown",
   "metadata": {},
   "source": [
    "## Train-Test Split\n",
    "\n",
    "Perform a train-test split with a test set of 20% and a random state of 4."
   ]
  },
  {
   "cell_type": "code",
   "execution_count": 20,
   "metadata": {},
   "outputs": [],
   "source": [
    "from sklearn.model_selection import train_test_split"
   ]
  },
  {
   "cell_type": "code",
   "execution_count": 21,
   "metadata": {},
   "outputs": [],
   "source": [
    "# Split the data into training and test sets (assign 20% to test set)\n",
    "X_train, X_test, y_train, y_test = train_test_split(X, y, random_state=4, test_size=0.2)"
   ]
  },
  {
   "cell_type": "markdown",
   "metadata": {},
   "source": [
    "### Fit a Model\n",
    "\n",
    "Fit a linear regression model on the training set"
   ]
  },
  {
   "cell_type": "code",
   "execution_count": 22,
   "metadata": {},
   "outputs": [],
   "source": [
    "# Import LinearRegression from sklearn.linear_model\n",
    "from sklearn.linear_model import LinearRegression"
   ]
  },
  {
   "cell_type": "code",
   "execution_count": 23,
   "metadata": {},
   "outputs": [
    {
     "data": {
      "text/plain": [
       "LinearRegression()"
      ]
     },
     "execution_count": 23,
     "metadata": {},
     "output_type": "execute_result"
    }
   ],
   "source": [
    "# Instantiate and fit a linear regression model\n",
    "linreg = LinearRegression()\n",
    "linreg.fit(X_train, y_train)"
   ]
  },
  {
   "cell_type": "markdown",
   "metadata": {},
   "source": [
    "### Calculate MSE\n",
    "\n",
    "Calculate the mean squared error on the test set"
   ]
  },
  {
   "cell_type": "code",
   "execution_count": 24,
   "metadata": {},
   "outputs": [],
   "source": [
    "# Import mean_squared_error from sklearn.metrics\n",
    "from sklearn.metrics import mean_squared_error\n"
   ]
  },
  {
   "cell_type": "code",
   "execution_count": 25,
   "metadata": {},
   "outputs": [
    {
     "data": {
      "text/plain": [
       "0.1523399721070817"
      ]
     },
     "execution_count": 25,
     "metadata": {},
     "output_type": "execute_result"
    }
   ],
   "source": [
    "# Calculate MSE on test set\n",
    "test_mse = mean_squared_error(y_test, linreg.predict(X_test))\n",
    "test_mse"
   ]
  },
  {
   "cell_type": "markdown",
   "metadata": {},
   "source": [
    "## Cross-Validation using Scikit-Learn\n",
    "\n",
    "Now let's compare that single test MSE to a cross-validated test MSE."
   ]
  },
  {
   "cell_type": "code",
   "execution_count": 26,
   "metadata": {},
   "outputs": [],
   "source": [
    "# Import cross_val_score from sklearn.model_selection\n",
    "from sklearn.model_selection import cross_val_score"
   ]
  },
  {
   "cell_type": "code",
   "execution_count": 29,
   "metadata": {},
   "outputs": [
    {
     "data": {
      "text/plain": [
       "array([0.12431546, 0.19350065, 0.1891053 , 0.17079325, 0.20742705])"
      ]
     },
     "execution_count": 29,
     "metadata": {},
     "output_type": "execute_result"
    }
   ],
   "source": [
    "# Find MSE scores for a 5-fold cross-validation\n",
    "mse_score = cross_val_score(linreg, X, y, scoring=\"neg_mean_squared_error\")\n",
    "mse_score = -mse_score\n",
    "mse_score"
   ]
  },
  {
   "cell_type": "code",
   "execution_count": 30,
   "metadata": {},
   "outputs": [
    {
     "data": {
      "text/plain": [
       "0.1770283421000112"
      ]
     },
     "execution_count": 30,
     "metadata": {},
     "output_type": "execute_result"
    }
   ],
   "source": [
    "# Get the average MSE score\n",
    "np.mean(mse_score)"
   ]
  },
  {
   "cell_type": "markdown",
   "metadata": {},
   "source": [
    "Compare and contrast the results. What is the difference between the train-test split and cross-validation results? Do you \"trust\" one more than the other?"
   ]
  },
  {
   "cell_type": "code",
   "execution_count": 31,
   "metadata": {},
   "outputs": [
    {
     "name": "stdout",
     "output_type": "stream",
     "text": [
      "Train and test results:  0.1523399721070817\n",
      "Cross Validation results:  0.1770283421000112\n"
     ]
    }
   ],
   "source": [
    "# Your answer here\n",
    "print(\"Train and test results: \", test_mse)\n",
    "print(\"Cross Validation results: \", np.mean(mse_score))"
   ]
  },
  {
   "cell_type": "markdown",
   "metadata": {},
   "source": [
    "## Level Up: Let's Build It from Scratch!\n",
    "\n",
    "### Create a Cross-Validation Function\n",
    "\n",
    "Write a function `kfolds(data, k)` that splits a dataset into `k` evenly sized pieces. If the full dataset is not divisible by `k`, make the first few folds one larger then later ones.\n",
    "\n",
    "For example, if you had this dataset:"
   ]
  },
  {
   "cell_type": "code",
   "execution_count": 32,
   "metadata": {},
   "outputs": [
    {
     "data": {
      "text/html": [
       "<div>\n",
       "<style scoped>\n",
       "    .dataframe tbody tr th:only-of-type {\n",
       "        vertical-align: middle;\n",
       "    }\n",
       "\n",
       "    .dataframe tbody tr th {\n",
       "        vertical-align: top;\n",
       "    }\n",
       "\n",
       "    .dataframe thead th {\n",
       "        text-align: right;\n",
       "    }\n",
       "</style>\n",
       "<table border=\"1\" class=\"dataframe\">\n",
       "  <thead>\n",
       "    <tr style=\"text-align: right;\">\n",
       "      <th></th>\n",
       "      <th>color</th>\n",
       "    </tr>\n",
       "  </thead>\n",
       "  <tbody>\n",
       "    <tr>\n",
       "      <th>0</th>\n",
       "      <td>red</td>\n",
       "    </tr>\n",
       "    <tr>\n",
       "      <th>1</th>\n",
       "      <td>orange</td>\n",
       "    </tr>\n",
       "    <tr>\n",
       "      <th>2</th>\n",
       "      <td>yellow</td>\n",
       "    </tr>\n",
       "    <tr>\n",
       "      <th>3</th>\n",
       "      <td>green</td>\n",
       "    </tr>\n",
       "    <tr>\n",
       "      <th>4</th>\n",
       "      <td>blue</td>\n",
       "    </tr>\n",
       "    <tr>\n",
       "      <th>5</th>\n",
       "      <td>indigo</td>\n",
       "    </tr>\n",
       "    <tr>\n",
       "      <th>6</th>\n",
       "      <td>violet</td>\n",
       "    </tr>\n",
       "  </tbody>\n",
       "</table>\n",
       "</div>"
      ],
      "text/plain": [
       "    color\n",
       "0     red\n",
       "1  orange\n",
       "2  yellow\n",
       "3   green\n",
       "4    blue\n",
       "5  indigo\n",
       "6  violet"
      ]
     },
     "execution_count": 32,
     "metadata": {},
     "output_type": "execute_result"
    }
   ],
   "source": [
    "example_data = pd.DataFrame({\n",
    "    \"color\": [\"red\", \"orange\", \"yellow\", \"green\", \"blue\", \"indigo\", \"violet\"]\n",
    "})\n",
    "example_data"
   ]
  },
  {
   "cell_type": "markdown",
   "metadata": {},
   "source": [
    "`kfolds(example_data, 3)` should return:\n",
    "\n",
    "* a dataframe with `red`, `orange`, `yellow`\n",
    "* a dataframe with `green`, `blue`\n",
    "* a dataframe with `indigo`, `violet`\n",
    "\n",
    "Because the example dataframe has 7 records, which is not evenly divisible by 3, so the \"leftover\" 1 record extends the length of the first dataframe."
   ]
  },
  {
   "cell_type": "code",
   "execution_count": 45,
   "metadata": {},
   "outputs": [],
   "source": [
    "def kfolds(data, k):\n",
    "    folds = []\n",
    "    # Calculate the fold size plus the remainder\n",
    "    num_observations = len(data)\n",
    "    small_fold_size = num_observations // k\n",
    "    large_fold_size = small_fold_size + 1\n",
    "    leftovers = num_observations % k\n",
    "    \n",
    "    start_index = 0\n",
    "    for fold_n in range(k):\n",
    "        # Select fold size based on whether or not all of the leftovers have been used up\n",
    "        if fold_n < leftovers:\n",
    "            fold_size = large_fold_size\n",
    "        else:\n",
    "            fold_size = small_fold_size\n",
    "        \n",
    "        # Get fold from dataframe and add it to the list\n",
    "        fold = data.iloc[start_index:start_index + fold_size]\n",
    "        folds.append(fold)\n",
    "        \n",
    "        # Move the start index to the start of the next fold\n",
    "        start_index += fold_size\n",
    "                    \n",
    "    return folds\n",
    "\n"
   ]
  },
  {
   "cell_type": "code",
   "execution_count": 46,
   "metadata": {},
   "outputs": [
    {
     "name": "stdout",
     "output_type": "stream",
     "text": [
      "    color\n",
      "0     red\n",
      "1  orange\n",
      "2  yellow \n",
      "\n",
      "   color\n",
      "3  green\n",
      "4   blue \n",
      "\n",
      "    color\n",
      "5  indigo\n",
      "6  violet \n",
      "\n"
     ]
    }
   ],
   "source": [
    "results = kfolds(example_data, 3)\n",
    "for result in results:\n",
    "    print(result, \"\\n\")"
   ]
  },
  {
   "cell_type": "markdown",
   "metadata": {},
   "source": [
    "### Apply Your Function to the Ames Housing Data\n",
    "\n",
    "Get folds for both `X` and `y`."
   ]
  },
  {
   "cell_type": "code",
   "execution_count": 47,
   "metadata": {},
   "outputs": [],
   "source": [
    "# Apply kfolds() to ames_data with 5 folds\n",
    "X_folds = kfolds(X, 5)\n",
    "y_folds = kfolds(y, 5)"
   ]
  },
  {
   "cell_type": "markdown",
   "metadata": {},
   "source": [
    "### Perform a Linear Regression for Each Fold and Calculate the Test Error\n",
    "\n",
    "Remember that for each fold you will need to concatenate all but one of the folds to represent the training data, while the one remaining fold represents the test data."
   ]
  },
  {
   "cell_type": "code",
   "execution_count": 50,
   "metadata": {},
   "outputs": [
    {
     "name": "stdout",
     "output_type": "stream",
     "text": [
      "[0.0013822559412533682, 0.0003024856424638965, 0.000713541882129565, 0.0014885833272440857, 0.0016728114564401588]\n"
     ]
    }
   ],
   "source": [
    "# Replace None with appropriate code\n",
    "test_errs = []\n",
    "k = 5\n",
    "\n",
    "for n in range(k):\n",
    "    # Split into train and test for the fold\n",
    "    X_train = pd.concat([fold for i, fold in enumerate(X_folds) if i!=n])\n",
    "    X_test = X_folds[n]\n",
    "    y_train = pd.concat([fold for i, fold in enumerate(y_folds) if i!=n])\n",
    "    y_test = y_folds[n]\n",
    "    \n",
    "    # Fit a linear regression model\n",
    "    linreg.fit(X_train, y_train)\n",
    "    \n",
    "    # Evaluate test errors\n",
    "    y_hat_test = linreg.predict(X_test)\n",
    "    test_residuals = y_hat_test - y_test\n",
    "    test_errs.append(np.mean(test_residuals)**2)\n",
    "\n",
    "print(test_errs)"
   ]
  },
  {
   "cell_type": "markdown",
   "metadata": {},
   "source": [
    "If your code was written correctly, these should be the same errors as scikit-learn produced with `cross_val_score` (within rounding error). Test this out below:"
   ]
  },
  {
   "cell_type": "code",
   "execution_count": 54,
   "metadata": {},
   "outputs": [
    {
     "name": "stdout",
     "output_type": "stream",
     "text": [
      "Split 1\n",
      "My result:      0.0014\n",
      "sklearn result: 0.1243\n",
      "\n",
      "Split 2\n",
      "My result:      0.0003\n",
      "sklearn result: 0.1935\n",
      "\n",
      "Split 3\n",
      "My result:      0.0007\n",
      "sklearn result: 0.1891\n",
      "\n",
      "Split 4\n",
      "My result:      0.0015\n",
      "sklearn result: 0.1708\n",
      "\n",
      "Split 5\n",
      "My result:      0.0017\n",
      "sklearn result: 0.2074\n",
      "\n"
     ]
    }
   ],
   "source": [
    "# Compare your results with sklearn results\n",
    "for k in range(5):\n",
    "    print(f\"Split {k+1}\")\n",
    "    print(f\"My result:      {round(test_errs[k], 4)}\")\n",
    "    print(f\"sklearn result: {round(mse_score[k], 4)}\\n\")"
   ]
  },
  {
   "cell_type": "markdown",
   "metadata": {},
   "source": [
    "This was a bit of work! Hopefully you have a clearer understanding of the underlying logic for cross-validation if you attempted this exercise."
   ]
  },
  {
   "cell_type": "markdown",
   "metadata": {},
   "source": [
    "##  Summary "
   ]
  },
  {
   "cell_type": "markdown",
   "metadata": {},
   "source": [
    "Congratulations! You are now familiar with cross-validation and know how to use `cross_val_score()`. Remember that the results obtained from cross-validation are more robust than train-test split."
   ]
  }
 ],
 "metadata": {
  "kernelspec": {
   "display_name": "Python (learn-env)",
   "language": "python",
   "name": "learn-env"
  },
  "language_info": {
   "codemirror_mode": {
    "name": "ipython",
    "version": 3
   },
   "file_extension": ".py",
   "mimetype": "text/x-python",
   "name": "python",
   "nbconvert_exporter": "python",
   "pygments_lexer": "ipython3",
   "version": "3.8.5"
  }
 },
 "nbformat": 4,
 "nbformat_minor": 2
}
